{
 "cells": [
  {
   "cell_type": "markdown",
   "source": [
    "# Exercise 04 : A/B-testing"
   ],
   "metadata": {
    "collapsed": false
   }
  },
  {
   "cell_type": "markdown",
   "source": [
    "## Import"
   ],
   "metadata": {
    "collapsed": false
   }
  },
  {
   "cell_type": "code",
   "execution_count": 16,
   "outputs": [],
   "source": [
    "import pandas as pd\n",
    "import sqlite3"
   ],
   "metadata": {
    "collapsed": false
   }
  },
  {
   "cell_type": "markdown",
   "source": [
    "## Create a connection to the database using the library *sqlite3*"
   ],
   "metadata": {
    "collapsed": false
   }
  },
  {
   "cell_type": "code",
   "execution_count": 17,
   "outputs": [],
   "source": [
    "db_connect = sqlite3.connect('../data/checking-logs.sqlite.sqlite copy')"
   ],
   "metadata": {
    "collapsed": false
   }
  },
  {
   "cell_type": "markdown",
   "source": [
    "## Create two dataframes: `test_results` and `control_results`"
   ],
   "metadata": {
    "collapsed": false
   }
  },
  {
   "cell_type": "code",
   "execution_count": 18,
   "outputs": [
    {
     "data": {
      "text/plain": "     time   avg_diff\n0   after -103.40625\n1  before  -60.56250",
      "text/html": "<div>\n<style scoped>\n    .dataframe tbody tr th:only-of-type {\n        vertical-align: middle;\n    }\n\n    .dataframe tbody tr th {\n        vertical-align: top;\n    }\n\n    .dataframe thead th {\n        text-align: right;\n    }\n</style>\n<table border=\"1\" class=\"dataframe\">\n  <thead>\n    <tr style=\"text-align: right;\">\n      <th></th>\n      <th>time</th>\n      <th>avg_diff</th>\n    </tr>\n  </thead>\n  <tbody>\n    <tr>\n      <th>0</th>\n      <td>after</td>\n      <td>-103.40625</td>\n    </tr>\n    <tr>\n      <th>1</th>\n      <td>before</td>\n      <td>-60.56250</td>\n    </tr>\n  </tbody>\n</table>\n</div>"
     },
     "execution_count": 18,
     "metadata": {},
     "output_type": "execute_result"
    }
   ],
   "source": [
    "sql_query=\"\"\"\n",
    "\n",
    "SELECT\n",
    "    'before' AS time,\n",
    "    AVG(CAST((julianday(test.first_commit_ts) - julianday(deadlines.deadlines, 'unixepoch')) * 24 AS INT)) AS avg_diff\n",
    "FROM\n",
    "    test\n",
    "INNER JOIN\n",
    "    deadlines\n",
    "ON\n",
    "    test.labname != 'project1'\n",
    "    AND test.labname = deadlines.labs\n",
    "WHERE\n",
    "    julianday(test.first_commit_ts) < julianday(test.first_view_ts)\n",
    "\n",
    "\n",
    "UNION\n",
    "\n",
    "\n",
    "SELECT\n",
    "    'after' AS time,\n",
    "    AVG(CAST((julianday(test.first_commit_ts) - julianday(deadlines.deadlines, 'unixepoch')) * 24 AS INT)) AS avg_diff\n",
    "FROM\n",
    "    test\n",
    "INNER JOIN\n",
    "    deadlines\n",
    "ON\n",
    "    test.labname != 'project1'\n",
    "    AND test.labname = deadlines.labs\n",
    "WHERE\n",
    "    julianday(test.first_commit_ts) > julianday(test.first_view_ts)\n",
    "\"\"\"\n",
    "\n",
    "test_results = pd.read_sql(sql=sql_query, con=db_connect)\n",
    "test_results"
   ],
   "metadata": {
    "collapsed": false
   }
  },
  {
   "cell_type": "code",
   "execution_count": 19,
   "outputs": [
    {
     "data": {
      "text/plain": "     time    avg_diff\n0   after -112.710526\n1  before  -99.464286",
      "text/html": "<div>\n<style scoped>\n    .dataframe tbody tr th:only-of-type {\n        vertical-align: middle;\n    }\n\n    .dataframe tbody tr th {\n        vertical-align: top;\n    }\n\n    .dataframe thead th {\n        text-align: right;\n    }\n</style>\n<table border=\"1\" class=\"dataframe\">\n  <thead>\n    <tr style=\"text-align: right;\">\n      <th></th>\n      <th>time</th>\n      <th>avg_diff</th>\n    </tr>\n  </thead>\n  <tbody>\n    <tr>\n      <th>0</th>\n      <td>after</td>\n      <td>-112.710526</td>\n    </tr>\n    <tr>\n      <th>1</th>\n      <td>before</td>\n      <td>-99.464286</td>\n    </tr>\n  </tbody>\n</table>\n</div>"
     },
     "execution_count": 19,
     "metadata": {},
     "output_type": "execute_result"
    }
   ],
   "source": [
    "sql_query=\"\"\"\n",
    "\n",
    "SELECT\n",
    "    'before' AS time,\n",
    "    AVG(CAST((julianday(control.first_commit_ts) - julianday(deadlines.deadlines, 'unixepoch')) * 24 AS INT)) AS avg_diff\n",
    "FROM\n",
    "    control\n",
    "INNER JOIN\n",
    "    deadlines\n",
    "ON\n",
    "    control.labname != 'project1'\n",
    "    AND control.labname = deadlines.labs\n",
    "WHERE\n",
    "    julianday(control.first_commit_ts) < julianday(control.first_view_ts)\n",
    "\n",
    "\n",
    "UNION\n",
    "\n",
    "\n",
    "SELECT\n",
    "    'after' AS time,\n",
    "    AVG(CAST((julianday(control.first_commit_ts) - julianday(deadlines.deadlines, 'unixepoch')) * 24 AS INT)) AS avg_diff\n",
    "FROM\n",
    "    control\n",
    "INNER JOIN\n",
    "    deadlines\n",
    "ON\n",
    "    control.labname != 'project1'\n",
    "    AND control.labname = deadlines.labs\n",
    "WHERE\n",
    "    julianday(control.first_commit_ts) > julianday(control.first_view_ts)\n",
    "\"\"\"\n",
    "\n",
    "control_results = pd.read_sql(sql=sql_query, con=db_connect)\n",
    "control_results"
   ],
   "metadata": {
    "collapsed": false
   }
  },
  {
   "cell_type": "code",
   "execution_count": 20,
   "outputs": [
    {
     "name": "stdout",
     "output_type": "stream",
     "text": [
      "41.43 %\n"
     ]
    }
   ],
   "source": [
    "percent_test = round((test_results.avg_diff[0] - test_results.avg_diff[1]) / test_results.avg_diff[0] * 100, 2)\n",
    "print(percent_test, '%')"
   ],
   "metadata": {
    "collapsed": false
   }
  },
  {
   "cell_type": "code",
   "execution_count": 21,
   "outputs": [
    {
     "name": "stdout",
     "output_type": "stream",
     "text": [
      "11.75 %\n"
     ]
    }
   ],
   "source": [
    "percent_control = round((control_results.avg_diff[0] - control_results.avg_diff[1]) / control_results.avg_diff[0] * 100, 2)\n",
    "print(percent_control, '%')"
   ],
   "metadata": {
    "collapsed": false
   }
  },
  {
   "cell_type": "markdown",
   "source": [
    "## Close the connection"
   ],
   "metadata": {
    "collapsed": false
   }
  },
  {
   "cell_type": "code",
   "execution_count": 22,
   "outputs": [],
   "source": [
    "db_connect.close()"
   ],
   "metadata": {
    "collapsed": false
   }
  }
 ],
 "metadata": {
  "kernelspec": {
   "display_name": "Python 3",
   "language": "python",
   "name": "python3"
  },
  "language_info": {
   "codemirror_mode": {
    "name": "ipython",
    "version": 2
   },
   "file_extension": ".py",
   "mimetype": "text/x-python",
   "name": "python",
   "nbconvert_exporter": "python",
   "pygments_lexer": "ipython2",
   "version": "2.7.6"
  }
 },
 "nbformat": 4,
 "nbformat_minor": 0
}
