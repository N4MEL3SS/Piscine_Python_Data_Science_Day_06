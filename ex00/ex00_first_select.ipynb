{
 "cells": [
  {
   "cell_type": "markdown",
   "source": [
    "# Exercise 00 : Select"
   ],
   "metadata": {
    "collapsed": false
   }
  },
  {
   "cell_type": "markdown",
   "source": [
    "## Import"
   ],
   "metadata": {
    "collapsed": false
   }
  },
  {
   "cell_type": "code",
   "execution_count": 32,
   "outputs": [],
   "source": [
    "import pandas as pd\n",
    "import sqlite3"
   ],
   "metadata": {
    "collapsed": false
   }
  },
  {
   "cell_type": "markdown",
   "source": [
    "## Create a connection to the database using the library *sqlite3*"
   ],
   "metadata": {
    "collapsed": false
   }
  },
  {
   "cell_type": "code",
   "execution_count": 33,
   "outputs": [],
   "source": [
    "db_connect = sqlite3.connect('../data/checking-logs.sqlite.sqlite copy')"
   ],
   "metadata": {
    "collapsed": false
   }
  },
  {
   "cell_type": "markdown",
   "source": [
    "## Get the schema of the table pageviews using pd.io.sql.read_sql and the query `PRAGMA table_info(pageviews);`"
   ],
   "metadata": {
    "collapsed": false
   }
  },
  {
   "cell_type": "code",
   "execution_count": 34,
   "outputs": [
    {
     "data": {
      "text/plain": "   cid      name       type  notnull dflt_value  pk\n0    0     index    INTEGER        0       None   0\n1    1       uid       TEXT        0       None   0\n2    2  datetime  TIMESTAMP        0       None   0",
      "text/html": "<div>\n<style scoped>\n    .dataframe tbody tr th:only-of-type {\n        vertical-align: middle;\n    }\n\n    .dataframe tbody tr th {\n        vertical-align: top;\n    }\n\n    .dataframe thead th {\n        text-align: right;\n    }\n</style>\n<table border=\"1\" class=\"dataframe\">\n  <thead>\n    <tr style=\"text-align: right;\">\n      <th></th>\n      <th>cid</th>\n      <th>name</th>\n      <th>type</th>\n      <th>notnull</th>\n      <th>dflt_value</th>\n      <th>pk</th>\n    </tr>\n  </thead>\n  <tbody>\n    <tr>\n      <th>0</th>\n      <td>0</td>\n      <td>index</td>\n      <td>INTEGER</td>\n      <td>0</td>\n      <td>None</td>\n      <td>0</td>\n    </tr>\n    <tr>\n      <th>1</th>\n      <td>1</td>\n      <td>uid</td>\n      <td>TEXT</td>\n      <td>0</td>\n      <td>None</td>\n      <td>0</td>\n    </tr>\n    <tr>\n      <th>2</th>\n      <td>2</td>\n      <td>datetime</td>\n      <td>TIMESTAMP</td>\n      <td>0</td>\n      <td>None</td>\n      <td>0</td>\n    </tr>\n  </tbody>\n</table>\n</div>"
     },
     "execution_count": 34,
     "metadata": {},
     "output_type": "execute_result"
    }
   ],
   "source": [
    "query = \"PRAGMA table_info(pageviews);\"\n",
    "pd.io.sql.read_sql(sql=query, con=db_connect)"
   ],
   "metadata": {
    "collapsed": false
   }
  },
  {
   "cell_type": "markdown",
   "source": [
    "## Get only the first 10 rows of the table pageviews to check what the table looks like"
   ],
   "metadata": {
    "collapsed": false
   }
  },
  {
   "cell_type": "code",
   "execution_count": 35,
   "outputs": [
    {
     "data": {
      "text/plain": "   index      uid                    datetime\n0      0  admin_1  2020-04-17 12:01:08.463179\n1      1  admin_1  2020-04-17 12:01:23.743946\n2      2  admin_3  2020-04-17 12:17:39.287778\n3      3  admin_3  2020-04-17 12:17:40.001768\n4      4  admin_1  2020-04-17 12:27:30.646665\n5      5  admin_1  2020-04-17 12:35:44.884757\n6      6  admin_1  2020-04-17 12:35:52.735016\n7      7  admin_3  2020-04-17 12:36:21.401412\n8      8  admin_3  2020-04-17 12:36:22.023355\n9      9  admin_1  2020-04-17 13:55:19.129243",
      "text/html": "<div>\n<style scoped>\n    .dataframe tbody tr th:only-of-type {\n        vertical-align: middle;\n    }\n\n    .dataframe tbody tr th {\n        vertical-align: top;\n    }\n\n    .dataframe thead th {\n        text-align: right;\n    }\n</style>\n<table border=\"1\" class=\"dataframe\">\n  <thead>\n    <tr style=\"text-align: right;\">\n      <th></th>\n      <th>index</th>\n      <th>uid</th>\n      <th>datetime</th>\n    </tr>\n  </thead>\n  <tbody>\n    <tr>\n      <th>0</th>\n      <td>0</td>\n      <td>admin_1</td>\n      <td>2020-04-17 12:01:08.463179</td>\n    </tr>\n    <tr>\n      <th>1</th>\n      <td>1</td>\n      <td>admin_1</td>\n      <td>2020-04-17 12:01:23.743946</td>\n    </tr>\n    <tr>\n      <th>2</th>\n      <td>2</td>\n      <td>admin_3</td>\n      <td>2020-04-17 12:17:39.287778</td>\n    </tr>\n    <tr>\n      <th>3</th>\n      <td>3</td>\n      <td>admin_3</td>\n      <td>2020-04-17 12:17:40.001768</td>\n    </tr>\n    <tr>\n      <th>4</th>\n      <td>4</td>\n      <td>admin_1</td>\n      <td>2020-04-17 12:27:30.646665</td>\n    </tr>\n    <tr>\n      <th>5</th>\n      <td>5</td>\n      <td>admin_1</td>\n      <td>2020-04-17 12:35:44.884757</td>\n    </tr>\n    <tr>\n      <th>6</th>\n      <td>6</td>\n      <td>admin_1</td>\n      <td>2020-04-17 12:35:52.735016</td>\n    </tr>\n    <tr>\n      <th>7</th>\n      <td>7</td>\n      <td>admin_3</td>\n      <td>2020-04-17 12:36:21.401412</td>\n    </tr>\n    <tr>\n      <th>8</th>\n      <td>8</td>\n      <td>admin_3</td>\n      <td>2020-04-17 12:36:22.023355</td>\n    </tr>\n    <tr>\n      <th>9</th>\n      <td>9</td>\n      <td>admin_1</td>\n      <td>2020-04-17 13:55:19.129243</td>\n    </tr>\n  </tbody>\n</table>\n</div>"
     },
     "execution_count": 35,
     "metadata": {},
     "output_type": "execute_result"
    }
   ],
   "source": [
    "query = \"SELECT * FROM pageviews limit 10\"\n",
    "pd.io.sql.read_sql(sql=query, con=db_connect)"
   ],
   "metadata": {
    "collapsed": false
   }
  },
  {
   "cell_type": "markdown",
   "source": [
    "## Get the subtable using only one query"
   ],
   "metadata": {
    "collapsed": false
   }
  },
  {
   "cell_type": "code",
   "execution_count": 36,
   "outputs": [
    {
     "data": {
      "text/plain": "                               uid\ndatetime                          \n2020-04-26 21:53:59.624136  user_1\n2020-04-26 22:06:19.478143  user_1\n2020-04-26 22:12:09.614497  user_1\n2020-04-30 19:29:01.831635  user_1\n2020-05-05 20:26:32.894852  user_1\n2020-05-07 18:51:12.029577  user_1\n2020-05-11 21:56:54.292312  user_1\n2020-05-14 22:56:14.464582  user_1\n2020-05-14 23:59:38.758438  user_1\n2020-05-15 00:05:27.798227  user_1",
      "text/html": "<div>\n<style scoped>\n    .dataframe tbody tr th:only-of-type {\n        vertical-align: middle;\n    }\n\n    .dataframe tbody tr th {\n        vertical-align: top;\n    }\n\n    .dataframe thead th {\n        text-align: right;\n    }\n</style>\n<table border=\"1\" class=\"dataframe\">\n  <thead>\n    <tr style=\"text-align: right;\">\n      <th></th>\n      <th>uid</th>\n    </tr>\n    <tr>\n      <th>datetime</th>\n      <th></th>\n    </tr>\n  </thead>\n  <tbody>\n    <tr>\n      <th>2020-04-26 21:53:59.624136</th>\n      <td>user_1</td>\n    </tr>\n    <tr>\n      <th>2020-04-26 22:06:19.478143</th>\n      <td>user_1</td>\n    </tr>\n    <tr>\n      <th>2020-04-26 22:12:09.614497</th>\n      <td>user_1</td>\n    </tr>\n    <tr>\n      <th>2020-04-30 19:29:01.831635</th>\n      <td>user_1</td>\n    </tr>\n    <tr>\n      <th>2020-05-05 20:26:32.894852</th>\n      <td>user_1</td>\n    </tr>\n    <tr>\n      <th>2020-05-07 18:51:12.029577</th>\n      <td>user_1</td>\n    </tr>\n    <tr>\n      <th>2020-05-11 21:56:54.292312</th>\n      <td>user_1</td>\n    </tr>\n    <tr>\n      <th>2020-05-14 22:56:14.464582</th>\n      <td>user_1</td>\n    </tr>\n    <tr>\n      <th>2020-05-14 23:59:38.758438</th>\n      <td>user_1</td>\n    </tr>\n    <tr>\n      <th>2020-05-15 00:05:27.798227</th>\n      <td>user_1</td>\n    </tr>\n  </tbody>\n</table>\n</div>"
     },
     "execution_count": 36,
     "metadata": {},
     "output_type": "execute_result"
    }
   ],
   "source": [
    "query = \"SELECT uid,datetime FROM pageviews WHERE uid LIKE 'user_%' ORDER BY uid ASC;\"\n",
    "pageviews  = pd.io.sql.read_sql(sql=query, con=db_connect, index_col='datetime', parse_dates=['datetime'])\n",
    "pageviews.head(10)"
   ],
   "metadata": {
    "collapsed": false
   }
  },
  {
   "cell_type": "code",
   "execution_count": 37,
   "outputs": [
    {
     "name": "stdout",
     "output_type": "stream",
     "text": [
      "<class 'pandas.core.frame.DataFrame'>\n",
      "DatetimeIndex: 987 entries, 2020-04-26 21:53:59.624136 to 2020-05-21 16:36:40.915488\n",
      "Data columns (total 1 columns):\n",
      " #   Column  Non-Null Count  Dtype \n",
      "---  ------  --------------  ----- \n",
      " 0   uid     987 non-null    object\n",
      "dtypes: object(1)\n",
      "memory usage: 15.4+ KB\n"
     ]
    }
   ],
   "source": [
    "pageviews.info()"
   ],
   "metadata": {
    "collapsed": false
   }
  },
  {
   "cell_type": "markdown",
   "source": [
    "## Close the connection to the database"
   ],
   "metadata": {
    "collapsed": false
   }
  },
  {
   "cell_type": "code",
   "execution_count": 38,
   "outputs": [],
   "source": [
    "db_connect.close()"
   ],
   "metadata": {
    "collapsed": false
   }
  }
 ],
 "metadata": {
  "kernelspec": {
   "display_name": "Python 3",
   "language": "python",
   "name": "python3"
  },
  "language_info": {
   "codemirror_mode": {
    "name": "ipython",
    "version": 2
   },
   "file_extension": ".py",
   "mimetype": "text/x-python",
   "name": "python",
   "nbconvert_exporter": "python",
   "pygments_lexer": "ipython2",
   "version": "2.7.6"
  }
 },
 "nbformat": 4,
 "nbformat_minor": 0
}
