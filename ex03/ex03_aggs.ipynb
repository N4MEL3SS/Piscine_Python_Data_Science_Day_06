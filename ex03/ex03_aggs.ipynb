{
 "cells": [
  {
   "cell_type": "markdown",
   "source": [
    "# Exercise 03 : Aggregations"
   ],
   "metadata": {
    "collapsed": false
   }
  },
  {
   "cell_type": "markdown",
   "source": [
    "## Import"
   ],
   "metadata": {
    "collapsed": false
   }
  },
  {
   "cell_type": "code",
   "execution_count": 36,
   "outputs": [],
   "source": [
    "import pandas as pd\n",
    "import sqlite3"
   ],
   "metadata": {
    "collapsed": false
   }
  },
  {
   "cell_type": "markdown",
   "source": [
    "## Create a connection to the database using the library *sqlite3*"
   ],
   "metadata": {
    "collapsed": false
   }
  },
  {
   "cell_type": "code",
   "execution_count": 37,
   "outputs": [],
   "source": [
    "db_connect = sqlite3.connect('../data/checking-logs.sqlite.sqlite copy')"
   ],
   "metadata": {
    "collapsed": false
   }
  },
  {
   "cell_type": "markdown",
   "source": [
    "## Get the schema of the table test"
   ],
   "metadata": {
    "collapsed": false
   }
  },
  {
   "cell_type": "code",
   "execution_count": 38,
   "outputs": [
    {
     "data": {
      "text/plain": "   cid             name       type  notnull dflt_value  pk\n0    0            index    INTEGER        0       None   0\n1    1              uid       TEXT        0       None   0\n2    2          labname       TEXT        0       None   0\n3    3  first_commit_ts  TIMESTAMP        0       None   0\n4    4    first_view_ts  TIMESTAMP        0       None   0",
      "text/html": "<div>\n<style scoped>\n    .dataframe tbody tr th:only-of-type {\n        vertical-align: middle;\n    }\n\n    .dataframe tbody tr th {\n        vertical-align: top;\n    }\n\n    .dataframe thead th {\n        text-align: right;\n    }\n</style>\n<table border=\"1\" class=\"dataframe\">\n  <thead>\n    <tr style=\"text-align: right;\">\n      <th></th>\n      <th>cid</th>\n      <th>name</th>\n      <th>type</th>\n      <th>notnull</th>\n      <th>dflt_value</th>\n      <th>pk</th>\n    </tr>\n  </thead>\n  <tbody>\n    <tr>\n      <th>0</th>\n      <td>0</td>\n      <td>index</td>\n      <td>INTEGER</td>\n      <td>0</td>\n      <td>None</td>\n      <td>0</td>\n    </tr>\n    <tr>\n      <th>1</th>\n      <td>1</td>\n      <td>uid</td>\n      <td>TEXT</td>\n      <td>0</td>\n      <td>None</td>\n      <td>0</td>\n    </tr>\n    <tr>\n      <th>2</th>\n      <td>2</td>\n      <td>labname</td>\n      <td>TEXT</td>\n      <td>0</td>\n      <td>None</td>\n      <td>0</td>\n    </tr>\n    <tr>\n      <th>3</th>\n      <td>3</td>\n      <td>first_commit_ts</td>\n      <td>TIMESTAMP</td>\n      <td>0</td>\n      <td>None</td>\n      <td>0</td>\n    </tr>\n    <tr>\n      <th>4</th>\n      <td>4</td>\n      <td>first_view_ts</td>\n      <td>TIMESTAMP</td>\n      <td>0</td>\n      <td>None</td>\n      <td>0</td>\n    </tr>\n  </tbody>\n</table>\n</div>"
     },
     "execution_count": 38,
     "metadata": {},
     "output_type": "execute_result"
    }
   ],
   "source": [
    "query = \"PRAGMA table_info(test);\"\n",
    "pd.read_sql(sql=query, con=db_connect)"
   ],
   "metadata": {
    "collapsed": false
   }
  },
  {
   "cell_type": "markdown",
   "source": [
    "## Get only the first 10 rows of the table test"
   ],
   "metadata": {
    "collapsed": false
   }
  },
  {
   "cell_type": "code",
   "execution_count": 39,
   "outputs": [
    {
     "data": {
      "text/plain": "           uid   labname             first_commit_ts  \\\nindex                                                  \n3      user_17  project1  2020-04-18 07:56:45.408648   \n4      user_30    laba04  2020-04-18 13:36:53.971502   \n7      user_30   laba04s  2020-04-18 14:51:37.498399   \n8      user_14    laba04  2020-04-18 15:14:00.312338   \n11     user_14   laba04s  2020-04-18 22:30:30.247628   \n18     user_19    laba04  2020-04-20 19:05:01.297780   \n19     user_25    laba04  2020-04-20 19:16:50.673054   \n20     user_21    laba04  2020-04-21 17:48:00.487806   \n21     user_30  project1  2020-04-22 12:36:24.053518   \n23     user_21   laba04s  2020-04-22 20:09:21.857747   \n\n                    first_view_ts  \nindex                              \n3      2020-04-18 10:56:55.833899  \n4      2020-04-17 22:46:26.785035  \n7      2020-04-17 22:46:26.785035  \n8      2020-04-18 10:53:52.623447  \n11     2020-04-18 10:53:52.623447  \n18     2020-04-21 20:30:38.034966  \n19     2020-05-09 23:54:54.260791  \n20     2020-04-22 22:40:36.824081  \n21     2020-04-17 22:46:26.785035  \n23     2020-04-22 22:40:36.824081  ",
      "text/html": "<div>\n<style scoped>\n    .dataframe tbody tr th:only-of-type {\n        vertical-align: middle;\n    }\n\n    .dataframe tbody tr th {\n        vertical-align: top;\n    }\n\n    .dataframe thead th {\n        text-align: right;\n    }\n</style>\n<table border=\"1\" class=\"dataframe\">\n  <thead>\n    <tr style=\"text-align: right;\">\n      <th></th>\n      <th>uid</th>\n      <th>labname</th>\n      <th>first_commit_ts</th>\n      <th>first_view_ts</th>\n    </tr>\n    <tr>\n      <th>index</th>\n      <th></th>\n      <th></th>\n      <th></th>\n      <th></th>\n    </tr>\n  </thead>\n  <tbody>\n    <tr>\n      <th>3</th>\n      <td>user_17</td>\n      <td>project1</td>\n      <td>2020-04-18 07:56:45.408648</td>\n      <td>2020-04-18 10:56:55.833899</td>\n    </tr>\n    <tr>\n      <th>4</th>\n      <td>user_30</td>\n      <td>laba04</td>\n      <td>2020-04-18 13:36:53.971502</td>\n      <td>2020-04-17 22:46:26.785035</td>\n    </tr>\n    <tr>\n      <th>7</th>\n      <td>user_30</td>\n      <td>laba04s</td>\n      <td>2020-04-18 14:51:37.498399</td>\n      <td>2020-04-17 22:46:26.785035</td>\n    </tr>\n    <tr>\n      <th>8</th>\n      <td>user_14</td>\n      <td>laba04</td>\n      <td>2020-04-18 15:14:00.312338</td>\n      <td>2020-04-18 10:53:52.623447</td>\n    </tr>\n    <tr>\n      <th>11</th>\n      <td>user_14</td>\n      <td>laba04s</td>\n      <td>2020-04-18 22:30:30.247628</td>\n      <td>2020-04-18 10:53:52.623447</td>\n    </tr>\n    <tr>\n      <th>18</th>\n      <td>user_19</td>\n      <td>laba04</td>\n      <td>2020-04-20 19:05:01.297780</td>\n      <td>2020-04-21 20:30:38.034966</td>\n    </tr>\n    <tr>\n      <th>19</th>\n      <td>user_25</td>\n      <td>laba04</td>\n      <td>2020-04-20 19:16:50.673054</td>\n      <td>2020-05-09 23:54:54.260791</td>\n    </tr>\n    <tr>\n      <th>20</th>\n      <td>user_21</td>\n      <td>laba04</td>\n      <td>2020-04-21 17:48:00.487806</td>\n      <td>2020-04-22 22:40:36.824081</td>\n    </tr>\n    <tr>\n      <th>21</th>\n      <td>user_30</td>\n      <td>project1</td>\n      <td>2020-04-22 12:36:24.053518</td>\n      <td>2020-04-17 22:46:26.785035</td>\n    </tr>\n    <tr>\n      <th>23</th>\n      <td>user_21</td>\n      <td>laba04s</td>\n      <td>2020-04-22 20:09:21.857747</td>\n      <td>2020-04-22 22:40:36.824081</td>\n    </tr>\n  </tbody>\n</table>\n</div>"
     },
     "execution_count": 39,
     "metadata": {},
     "output_type": "execute_result"
    }
   ],
   "source": [
    "query = \"SELECT * FROM test LIMIT 10;\"\n",
    "pd.read_sql(sql=query, con=db_connect, index_col='index')"
   ],
   "metadata": {
    "collapsed": false
   }
  },
  {
   "cell_type": "markdown",
   "source": [
    "## Find among all the users the minimum value of the delta between the first commit of the user and the deadline of the corresponding lab"
   ],
   "metadata": {
    "collapsed": false
   }
  },
  {
   "cell_type": "code",
   "execution_count": 40,
   "outputs": [
    {
     "data": {
      "text/plain": "   cid       name     type  notnull dflt_value  pk\n0    0      index  INTEGER        0       None   0\n1    1       labs     TEXT        0       None   0\n2    2  deadlines  INTEGER        0       None   0",
      "text/html": "<div>\n<style scoped>\n    .dataframe tbody tr th:only-of-type {\n        vertical-align: middle;\n    }\n\n    .dataframe tbody tr th {\n        vertical-align: top;\n    }\n\n    .dataframe thead th {\n        text-align: right;\n    }\n</style>\n<table border=\"1\" class=\"dataframe\">\n  <thead>\n    <tr style=\"text-align: right;\">\n      <th></th>\n      <th>cid</th>\n      <th>name</th>\n      <th>type</th>\n      <th>notnull</th>\n      <th>dflt_value</th>\n      <th>pk</th>\n    </tr>\n  </thead>\n  <tbody>\n    <tr>\n      <th>0</th>\n      <td>0</td>\n      <td>index</td>\n      <td>INTEGER</td>\n      <td>0</td>\n      <td>None</td>\n      <td>0</td>\n    </tr>\n    <tr>\n      <th>1</th>\n      <td>1</td>\n      <td>labs</td>\n      <td>TEXT</td>\n      <td>0</td>\n      <td>None</td>\n      <td>0</td>\n    </tr>\n    <tr>\n      <th>2</th>\n      <td>2</td>\n      <td>deadlines</td>\n      <td>INTEGER</td>\n      <td>0</td>\n      <td>None</td>\n      <td>0</td>\n    </tr>\n  </tbody>\n</table>\n</div>"
     },
     "execution_count": 40,
     "metadata": {},
     "output_type": "execute_result"
    }
   ],
   "source": [
    "query = \"PRAGMA table_info(deadlines);\"\n",
    "pd.read_sql(sql=query, con=db_connect)"
   ],
   "metadata": {
    "collapsed": false
   }
  },
  {
   "cell_type": "code",
   "execution_count": 41,
   "outputs": [
    {
     "data": {
      "text/plain": "           labs   deadlines\nindex                      \n0        laba04  1587945599\n1       laba04s  1587945599\n2        laba05  1588550399\n4        laba06  1590364799\n5       laba06s  1590364799\n3      project1  1589673599",
      "text/html": "<div>\n<style scoped>\n    .dataframe tbody tr th:only-of-type {\n        vertical-align: middle;\n    }\n\n    .dataframe tbody tr th {\n        vertical-align: top;\n    }\n\n    .dataframe thead th {\n        text-align: right;\n    }\n</style>\n<table border=\"1\" class=\"dataframe\">\n  <thead>\n    <tr style=\"text-align: right;\">\n      <th></th>\n      <th>labs</th>\n      <th>deadlines</th>\n    </tr>\n    <tr>\n      <th>index</th>\n      <th></th>\n      <th></th>\n    </tr>\n  </thead>\n  <tbody>\n    <tr>\n      <th>0</th>\n      <td>laba04</td>\n      <td>1587945599</td>\n    </tr>\n    <tr>\n      <th>1</th>\n      <td>laba04s</td>\n      <td>1587945599</td>\n    </tr>\n    <tr>\n      <th>2</th>\n      <td>laba05</td>\n      <td>1588550399</td>\n    </tr>\n    <tr>\n      <th>4</th>\n      <td>laba06</td>\n      <td>1590364799</td>\n    </tr>\n    <tr>\n      <th>5</th>\n      <td>laba06s</td>\n      <td>1590364799</td>\n    </tr>\n    <tr>\n      <th>3</th>\n      <td>project1</td>\n      <td>1589673599</td>\n    </tr>\n  </tbody>\n</table>\n</div>"
     },
     "execution_count": 41,
     "metadata": {},
     "output_type": "execute_result"
    }
   ],
   "source": [
    "query = \"SELECT * FROM deadlines LIMIT 10;\"\n",
    "pd.read_sql(sql=query, con=db_connect, index_col='index')"
   ],
   "metadata": {
    "collapsed": false
   }
  },
  {
   "cell_type": "code",
   "execution_count": 42,
   "outputs": [
    {
     "data": {
      "text/plain": "       uid  MIN(diff)\n0  user_30       -202",
      "text/html": "<div>\n<style scoped>\n    .dataframe tbody tr th:only-of-type {\n        vertical-align: middle;\n    }\n\n    .dataframe tbody tr th {\n        vertical-align: top;\n    }\n\n    .dataframe thead th {\n        text-align: right;\n    }\n</style>\n<table border=\"1\" class=\"dataframe\">\n  <thead>\n    <tr style=\"text-align: right;\">\n      <th></th>\n      <th>uid</th>\n      <th>MIN(diff)</th>\n    </tr>\n  </thead>\n  <tbody>\n    <tr>\n      <th>0</th>\n      <td>user_30</td>\n      <td>-202</td>\n    </tr>\n  </tbody>\n</table>\n</div>"
     },
     "execution_count": 42,
     "metadata": {},
     "output_type": "execute_result"
    }
   ],
   "source": [
    "query=\"\"\"\n",
    "SELECT\n",
    "    uid,\n",
    "    MIN(diff)\n",
    "FROM (\n",
    "    SELECT\n",
    "        test.uid,\n",
    "        test.labname,\n",
    "        CAST((julianday(test.first_commit_ts) - julianday(deadlines.deadlines, 'unixepoch')) * 24 AS INT) AS diff\n",
    "    FROM\n",
    "        test\n",
    "    INNER JOIN\n",
    "        deadlines\n",
    "    ON\n",
    "        test.labname != 'project1'\n",
    "        AND test.labname = deadlines.labs\n",
    ");\n",
    "\"\"\"\n",
    "\n",
    "df_min = pd.read_sql(sql=query, con=db_connect)\n",
    "df_min"
   ],
   "metadata": {
    "collapsed": false
   }
  },
  {
   "cell_type": "markdown",
   "source": [
    "## Find among all the users the maximum value of the delta between the first commit of the user and the deadline of the corresponding lab"
   ],
   "metadata": {
    "collapsed": false
   }
  },
  {
   "cell_type": "code",
   "execution_count": 43,
   "outputs": [
    {
     "data": {
      "text/plain": "       uid  MAX(diff)\n0  user_25         -2",
      "text/html": "<div>\n<style scoped>\n    .dataframe tbody tr th:only-of-type {\n        vertical-align: middle;\n    }\n\n    .dataframe tbody tr th {\n        vertical-align: top;\n    }\n\n    .dataframe thead th {\n        text-align: right;\n    }\n</style>\n<table border=\"1\" class=\"dataframe\">\n  <thead>\n    <tr style=\"text-align: right;\">\n      <th></th>\n      <th>uid</th>\n      <th>MAX(diff)</th>\n    </tr>\n  </thead>\n  <tbody>\n    <tr>\n      <th>0</th>\n      <td>user_25</td>\n      <td>-2</td>\n    </tr>\n  </tbody>\n</table>\n</div>"
     },
     "execution_count": 43,
     "metadata": {},
     "output_type": "execute_result"
    }
   ],
   "source": [
    "query=\"\"\"\n",
    "SELECT\n",
    "    uid,\n",
    "    MAX(diff)\n",
    "FROM (\n",
    "    SELECT\n",
    "        test.uid,\n",
    "        test.labname,\n",
    "        CAST((julianday(test.first_commit_ts) - julianday(deadlines.deadlines, 'unixepoch')) * 24 AS INT) AS diff\n",
    "    FROM\n",
    "        test\n",
    "    INNER JOIN\n",
    "        deadlines\n",
    "    ON\n",
    "        test.labname != 'project1'\n",
    "        AND test.labname = deadlines.labs\n",
    ");\n",
    "\"\"\"\n",
    "\n",
    "df_max = pd.read_sql(sql=query, con=db_connect)\n",
    "df_max"
   ],
   "metadata": {
    "collapsed": false
   }
  },
  {
   "cell_type": "markdown",
   "source": [
    "## Find among all the users the average value of the delta between the first commit of the user and the deadline of the corresponding lab"
   ],
   "metadata": {
    "collapsed": false
   }
  },
  {
   "cell_type": "code",
   "execution_count": 44,
   "outputs": [
    {
     "data": {
      "text/plain": "   AVG(diff)\n0    -89.125",
      "text/html": "<div>\n<style scoped>\n    .dataframe tbody tr th:only-of-type {\n        vertical-align: middle;\n    }\n\n    .dataframe tbody tr th {\n        vertical-align: top;\n    }\n\n    .dataframe thead th {\n        text-align: right;\n    }\n</style>\n<table border=\"1\" class=\"dataframe\">\n  <thead>\n    <tr style=\"text-align: right;\">\n      <th></th>\n      <th>AVG(diff)</th>\n    </tr>\n  </thead>\n  <tbody>\n    <tr>\n      <th>0</th>\n      <td>-89.125</td>\n    </tr>\n  </tbody>\n</table>\n</div>"
     },
     "execution_count": 44,
     "metadata": {},
     "output_type": "execute_result"
    }
   ],
   "source": [
    "query=\"\"\"\n",
    "SELECT\n",
    "    AVG(diff)\n",
    "FROM (\n",
    "    SELECT\n",
    "        test.uid,\n",
    "        test.labname,\n",
    "        CAST((julianday(test.first_commit_ts) - julianday(deadlines.deadlines, 'unixepoch')) * 24 AS INT) AS diff\n",
    "    FROM\n",
    "        test\n",
    "    INNER JOIN\n",
    "        deadlines\n",
    "    ON\n",
    "        test.labname != 'project1'\n",
    "        AND test.labname = deadlines.labs\n",
    ");\n",
    "\"\"\"\n",
    "\n",
    "df_avg = pd.read_sql(sql=query, con=db_connect)\n",
    "df_avg"
   ],
   "metadata": {
    "collapsed": false
   }
  },
  {
   "cell_type": "markdown",
   "source": [
    "## Test the hypothesis"
   ],
   "metadata": {
    "collapsed": false
   }
  },
  {
   "cell_type": "code",
   "execution_count": 45,
   "outputs": [
    {
     "data": {
      "text/plain": "        uid    avg_diff  pageviews\n0    user_1  -64.400000         28\n1   user_10  -74.800000         89\n2   user_14 -159.000000        143\n3   user_17  -61.600000         47\n4   user_18   -5.666667          3\n5   user_19  -98.750000         16\n6   user_21  -95.500000         10\n7   user_25  -92.600000        179\n8   user_28  -86.400000        149\n9    user_3 -105.400000        317\n10  user_30 -145.250000          3",
      "text/html": "<div>\n<style scoped>\n    .dataframe tbody tr th:only-of-type {\n        vertical-align: middle;\n    }\n\n    .dataframe tbody tr th {\n        vertical-align: top;\n    }\n\n    .dataframe thead th {\n        text-align: right;\n    }\n</style>\n<table border=\"1\" class=\"dataframe\">\n  <thead>\n    <tr style=\"text-align: right;\">\n      <th></th>\n      <th>uid</th>\n      <th>avg_diff</th>\n      <th>pageviews</th>\n    </tr>\n  </thead>\n  <tbody>\n    <tr>\n      <th>0</th>\n      <td>user_1</td>\n      <td>-64.400000</td>\n      <td>28</td>\n    </tr>\n    <tr>\n      <th>1</th>\n      <td>user_10</td>\n      <td>-74.800000</td>\n      <td>89</td>\n    </tr>\n    <tr>\n      <th>2</th>\n      <td>user_14</td>\n      <td>-159.000000</td>\n      <td>143</td>\n    </tr>\n    <tr>\n      <th>3</th>\n      <td>user_17</td>\n      <td>-61.600000</td>\n      <td>47</td>\n    </tr>\n    <tr>\n      <th>4</th>\n      <td>user_18</td>\n      <td>-5.666667</td>\n      <td>3</td>\n    </tr>\n    <tr>\n      <th>5</th>\n      <td>user_19</td>\n      <td>-98.750000</td>\n      <td>16</td>\n    </tr>\n    <tr>\n      <th>6</th>\n      <td>user_21</td>\n      <td>-95.500000</td>\n      <td>10</td>\n    </tr>\n    <tr>\n      <th>7</th>\n      <td>user_25</td>\n      <td>-92.600000</td>\n      <td>179</td>\n    </tr>\n    <tr>\n      <th>8</th>\n      <td>user_28</td>\n      <td>-86.400000</td>\n      <td>149</td>\n    </tr>\n    <tr>\n      <th>9</th>\n      <td>user_3</td>\n      <td>-105.400000</td>\n      <td>317</td>\n    </tr>\n    <tr>\n      <th>10</th>\n      <td>user_30</td>\n      <td>-145.250000</td>\n      <td>3</td>\n    </tr>\n  </tbody>\n</table>\n</div>"
     },
     "execution_count": 45,
     "metadata": {},
     "output_type": "execute_result"
    }
   ],
   "source": [
    "query='''\n",
    "SELECT\n",
    "    test.uid as uid,\n",
    "    AVG(CAST((julianday(test.first_commit_ts) - julianday(datetime(deadlines.deadlines, 'unixepoch'))) * 24 AS integer)) AS avg_diff,\n",
    "    views.av AS pageviews\n",
    "FROM\n",
    "    test\n",
    "JOIN\n",
    "    deadlines\n",
    "        ON\n",
    "            test.labname=deadlines.labs\n",
    "JOIN (\n",
    "    SELECT\n",
    "        uid,\n",
    "        COUNT(uid) AS av\n",
    "    FROM\n",
    "        pageviews\n",
    "    GROUP BY uid\n",
    "    )\n",
    "        AS views\n",
    "        ON\n",
    "            test.uid=views.uid\n",
    "WHERE\n",
    "    labname != 'project1'\n",
    "GROUP BY\n",
    "    test.uid\n",
    "'''\n",
    "\n",
    "views_diff = pd.read_sql(sql=query, con=db_connect)\n",
    "views_diff"
   ],
   "metadata": {
    "collapsed": false
   }
  },
  {
   "cell_type": "code",
   "execution_count": 46,
   "outputs": [
    {
     "name": "stderr",
     "output_type": "stream",
     "text": [
      "C:\\Users\\salav\\AppData\\Local\\Temp\\ipykernel_3260\\1431885951.py:1: FutureWarning: The default value of numeric_only in DataFrame.corr is deprecated. In a future version, it will default to False. Select only valid columns or specify the value of numeric_only to silence this warning.\n",
      "  views_diff.corr()\n"
     ]
    },
    {
     "data": {
      "text/plain": "           avg_diff  pageviews\navg_diff   1.000000  -0.279736\npageviews -0.279736   1.000000",
      "text/html": "<div>\n<style scoped>\n    .dataframe tbody tr th:only-of-type {\n        vertical-align: middle;\n    }\n\n    .dataframe tbody tr th {\n        vertical-align: top;\n    }\n\n    .dataframe thead th {\n        text-align: right;\n    }\n</style>\n<table border=\"1\" class=\"dataframe\">\n  <thead>\n    <tr style=\"text-align: right;\">\n      <th></th>\n      <th>avg_diff</th>\n      <th>pageviews</th>\n    </tr>\n  </thead>\n  <tbody>\n    <tr>\n      <th>avg_diff</th>\n      <td>1.000000</td>\n      <td>-0.279736</td>\n    </tr>\n    <tr>\n      <th>pageviews</th>\n      <td>-0.279736</td>\n      <td>1.000000</td>\n    </tr>\n  </tbody>\n</table>\n</div>"
     },
     "execution_count": 46,
     "metadata": {},
     "output_type": "execute_result"
    }
   ],
   "source": [
    "views_diff.corr()"
   ],
   "metadata": {
    "collapsed": false
   }
  },
  {
   "cell_type": "markdown",
   "source": [
    "## Close the connection"
   ],
   "metadata": {
    "collapsed": false
   }
  },
  {
   "cell_type": "code",
   "execution_count": 47,
   "outputs": [],
   "source": [
    "db_connect.close()"
   ],
   "metadata": {
    "collapsed": false
   }
  }
 ],
 "metadata": {
  "kernelspec": {
   "display_name": "Python 3",
   "language": "python",
   "name": "python3"
  },
  "language_info": {
   "codemirror_mode": {
    "name": "ipython",
    "version": 2
   },
   "file_extension": ".py",
   "mimetype": "text/x-python",
   "name": "python",
   "nbconvert_exporter": "python",
   "pygments_lexer": "ipython2",
   "version": "2.7.6"
  }
 },
 "nbformat": 4,
 "nbformat_minor": 0
}
